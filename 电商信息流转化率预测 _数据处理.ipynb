{
 "cells": [
  {
   "cell_type": "code",
   "execution_count": 21,
   "id": "cad7bb1c",
   "metadata": {},
   "outputs": [],
   "source": [
    "import pandas as pd\n",
    "import numpy as np\n",
    "import matplotlib.pyplot as plt"
   ]
  },
  {
   "cell_type": "code",
   "execution_count": 22,
   "id": "c3670caa",
   "metadata": {},
   "outputs": [
    {
     "name": "stdout",
     "output_type": "stream",
     "text": [
      "<class 'pandas.core.frame.DataFrame'>\n",
      "RangeIndex: 67122 entries, 0 to 67121\n",
      "Data columns (total 27 columns):\n",
      " #   Column       Non-Null Count  Dtype  \n",
      "---  ------       --------------  -----  \n",
      " 0   推广位名称        67122 non-null  object \n",
      " 1   投放日期         67122 non-null  object \n",
      " 2   已投放天数        67122 non-null  int64  \n",
      " 3   投放时段         49456 non-null  float64\n",
      " 4   品牌名称         67122 non-null  object \n",
      " 5   视频编号         67122 non-null  object \n",
      " 6   账号           61527 non-null  object \n",
      " 7   消耗           67122 non-null  float64\n",
      " 8   展示数          67122 non-null  int64  \n",
      " 9   点击数          67122 non-null  int64  \n",
      " 10  转化数          67122 non-null  int64  \n",
      " 11  按钮button     67122 non-null  int64  \n",
      " 12  调起店铺         67122 non-null  int64  \n",
      " 13  播放数          67122 non-null  int64  \n",
      " 14  有效播放数        67122 non-null  int64  \n",
      " 15  WiFi播放占比(%)  67122 non-null  float64\n",
      " 16  商品ID         67122 non-null  int64  \n",
      " 17  页面PV         67122 non-null  int64  \n",
      " 18  页面UV         67122 non-null  int64  \n",
      " 19  收藏UV         67122 non-null  int64  \n",
      " 20  加入购物车UV      67122 non-null  int64  \n",
      " 21  综合成交笔数       67122 non-null  int64  \n",
      " 22  综合成交金额       67122 non-null  float64\n",
      " 23  直接成交订单笔数     66796 non-null  float64\n",
      " 24  直接成交订单金额     67122 non-null  float64\n",
      " 25  间接成交笔数       67122 non-null  int64  \n",
      " 26  间接成交金额       67122 non-null  float64\n",
      "dtypes: float64(7), int64(15), object(5)\n",
      "memory usage: 13.8+ MB\n"
     ]
    }
   ],
   "source": [
    "flow = pd.read_csv('信息流数据_v1.csv')\n",
    "flow.info()"
   ]
  },
  {
   "cell_type": "code",
   "execution_count": 23,
   "id": "cd73c062",
   "metadata": {},
   "outputs": [],
   "source": [
    "# 删除日期列\n",
    "flow.drop('投放日期',axis=1, inplace=True)"
   ]
  },
  {
   "cell_type": "code",
   "execution_count": 24,
   "id": "eb0edb06",
   "metadata": {},
   "outputs": [
    {
     "data": {
      "text/plain": [
       "推广位名称              0\n",
       "已投放天数              0\n",
       "投放时段           17666\n",
       "品牌名称               0\n",
       "视频编号               0\n",
       "账号              5595\n",
       "消耗                 0\n",
       "展示数                0\n",
       "点击数                0\n",
       "转化数                0\n",
       "按钮button           0\n",
       "调起店铺               0\n",
       "播放数                0\n",
       "有效播放数              0\n",
       "WiFi播放占比(%)        0\n",
       "商品ID               0\n",
       "页面PV               0\n",
       "页面UV               0\n",
       "收藏UV               0\n",
       "加入购物车UV            0\n",
       "综合成交笔数             0\n",
       "综合成交金额             0\n",
       "直接成交订单笔数         326\n",
       "直接成交订单金额           0\n",
       "间接成交笔数             0\n",
       "间接成交金额             0\n",
       "dtype: int64"
      ]
     },
     "execution_count": 24,
     "metadata": {},
     "output_type": "execute_result"
    }
   ],
   "source": [
    "# 缺失值检查\n",
    "pd.isnull(flow).sum()\n",
    "pd.isna(flow).sum()"
   ]
  },
  {
   "cell_type": "code",
   "execution_count": 25,
   "id": "74b02d3f",
   "metadata": {},
   "outputs": [],
   "source": [
    "# 缺失值简单填充：分组填充投放时段和账号\n",
    "flow['投放时段'] = flow.groupby(\"推广位名称\").transform(lambda x: x.fillna(x.median()))\n",
    "flow['账号'] = flow.groupby(\"推广位名称\").transform(lambda x: x.fillna(x.mode()))"
   ]
  },
  {
   "cell_type": "code",
   "execution_count": 26,
   "id": "20a40231",
   "metadata": {},
   "outputs": [],
   "source": [
    "# 异常值处理\n",
    "flow = flow.query('已投放天数>0').reset_index()\n",
    "flow = flow.query('投放时段>0').reset_index() \n",
    "flow.drop(['level_0','index'],axis = 1,inplace = True)\n",
    "flow = flow.query('消耗>0').reset_index() \n",
    "flow.drop(['index'],axis = 1,inplace = True)"
   ]
  },
  {
   "cell_type": "code",
   "execution_count": 27,
   "id": "e6244ca8",
   "metadata": {},
   "outputs": [],
   "source": [
    "# one-hot ecoding(此处先one-hot的原因是对直接成交单数进行填充时需要其它变量作为feature输入)\n",
    "推广位名称_dum=pd.get_dummies(flow['推广位名称'])\n",
    "品牌名称_dum=pd.get_dummies(flow['品牌名称'])\n",
    "视频编号_dum=pd.get_dummies(flow['视频编号'])\n",
    "账号_dum=pd.get_dummies(flow['账号'])\n",
    "flow = pd.concat([flow,推广位名称_dum,品牌名称_dum,视频编号_dum,账号_dum],axis=1)"
   ]
  },
  {
   "cell_type": "code",
   "execution_count": 28,
   "id": "d6c392f0",
   "metadata": {},
   "outputs": [],
   "source": [
    "# 缺失值复杂填充：因果关系预测\n",
    "from sklearn.experimental import enable_iterative_imputer\n",
    "from sklearn.impute import IterativeImputer\n",
    "from sklearn.linear_model import BayesianRidge\n",
    "from sklearn.linear_model import Ridge\n",
    "from sklearn.ensemble import ExtraTreesRegressor\n",
    "from sklearn.tree import DecisionTreeRegressor\n",
    "from sklearn.neighbors import KNeighborsRegressor\n",
    "from sklearn.pipeline import make_pipeline\n",
    "from sklearn.model_selection import cross_val_score"
   ]
  },
  {
   "cell_type": "code",
   "execution_count": 29,
   "id": "345633e7",
   "metadata": {},
   "outputs": [],
   "source": [
    "# 拆分用于数据填充的数据集\n",
    "missing_data = flow.drop(['推广位名称','品牌名称','视频编号','账号'],axis=1)"
   ]
  },
  {
   "cell_type": "code",
   "execution_count": 11,
   "id": "84a7db33",
   "metadata": {},
   "outputs": [],
   "source": [
    "# BayesianRidge填充:效果不如trees好，出现了很多异常值\n",
    "# brimputer = IterativeImputer(estimator=BayesianRidge(), n_nearest_features=None, imputation_order='ascending')# 定义估算器\n",
    "# brimputer_imputed = pd.DataFrame(brimputer.fit_transform(missing_data), columns=missing_data.columns)# fit and transform"
   ]
  },
  {
   "cell_type": "code",
   "execution_count": 30,
   "id": "12805922",
   "metadata": {},
   "outputs": [
    {
     "name": "stderr",
     "output_type": "stream",
     "text": [
      "C:\\Users\\Sunny\\AppData\\Roaming\\Python\\Python37\\site-packages\\sklearn\\utils\\fixes.py:230: DeprecationWarning: distutils Version classes are deprecated. Use packaging.version instead.\n",
      "  if _joblib.__version__ >= LooseVersion('0.12'):\n",
      "C:\\Users\\Sunny\\AppData\\Roaming\\Python\\Python37\\site-packages\\sklearn\\utils\\fixes.py:230: DeprecationWarning: distutils Version classes are deprecated. Use packaging.version instead.\n",
      "  if _joblib.__version__ >= LooseVersion('0.12'):\n"
     ]
    }
   ],
   "source": [
    "# Trees填充\n",
    "etimputer = IterativeImputer(estimator=ExtraTreesRegressor(n_estimators=10, random_state=0))\n",
    "etimputer_imputed = pd.DataFrame(etimputer.fit_transform(missing_data), columns=missing_data.columns)"
   ]
  },
  {
   "cell_type": "code",
   "execution_count": 31,
   "id": "a6e2f799",
   "metadata": {
    "scrolled": true
   },
   "outputs": [
    {
     "data": {
      "text/plain": [
       "已投放天数          0\n",
       "投放时段           0\n",
       "消耗             0\n",
       "展示数            0\n",
       "点击数            0\n",
       "转化数            0\n",
       "按钮button       0\n",
       "调起店铺           0\n",
       "播放数            0\n",
       "有效播放数          0\n",
       "WiFi播放占比(%)    0\n",
       "商品ID           0\n",
       "页面PV           0\n",
       "页面UV           0\n",
       "收藏UV           0\n",
       "加入购物车UV        0\n",
       "综合成交笔数         0\n",
       "综合成交金额         0\n",
       "直接成交订单笔数       0\n",
       "直接成交订单金额       0\n",
       "间接成交笔数         0\n",
       "间接成交金额         0\n",
       "D5pro1         0\n",
       "dtype: int64"
      ]
     },
     "execution_count": 31,
     "metadata": {},
     "output_type": "execute_result"
    }
   ],
   "source": [
    "pd.isnull(etimputer_imputed.iloc[:,:23]).sum()"
   ]
  },
  {
   "cell_type": "code",
   "execution_count": 32,
   "id": "f64c23e0",
   "metadata": {},
   "outputs": [],
   "source": [
    "flow1 = etimputer_imputed.copy()"
   ]
  },
  {
   "cell_type": "code",
   "execution_count": 33,
   "id": "13a3afd6",
   "metadata": {},
   "outputs": [],
   "source": [
    "# 特征创造\n",
    "# 标签（业绩表现）\n",
    "flow1['点击ROI']=flow1['直接成交订单金额']/flow1['消耗']\n",
    "flow1['综合ROI']=flow1['综合成交金额']/flow1['消耗']\n",
    "flow1['直接成交率']=flow1['直接成交订单笔数']/flow1['页面UV']\n",
    "flow1['综合成交率']=flow1['综合成交笔数']/flow1['页面UV']\n",
    "# 特征\n",
    "flow1['有效播放率'] = flow1['有效播放数']/flow1['播放数']\n",
    "flow1['点击率'] = flow1['点击数']/flow1['播放数']\n",
    "flow1['转化率'] = flow1['页面UV']/flow1['点击数']\n",
    "flow1['收藏率']=flow1['收藏UV']/flow1['页面UV']\n",
    "flow1['加购率']=flow1['加入购物车UV']/flow1['页面UV']"
   ]
  },
  {
   "cell_type": "code",
   "execution_count": 34,
   "id": "1ee85d2b",
   "metadata": {},
   "outputs": [],
   "source": [
    "# 转化数据类型\n",
    "flow1['直接成交订单笔数'] = flow1['直接成交订单笔数'].astype('int64')"
   ]
  },
  {
   "cell_type": "code",
   "execution_count": 35,
   "id": "4e0dbced",
   "metadata": {},
   "outputs": [],
   "source": [
    "# 填充新建特征空值\n",
    "pd.isnull(flow1.iloc[:,-10:]).sum()\n",
    "flow1.replace([np.inf, -np.inf], np.nan, inplace=True)\n",
    "flow1.fillna(value=0,inplace=True)"
   ]
  },
  {
   "cell_type": "code",
   "execution_count": 36,
   "id": "aceb2129",
   "metadata": {},
   "outputs": [],
   "source": [
    "flow = pd.concat([flow1,flow['品牌名称']],axis=1)"
   ]
  },
  {
   "cell_type": "code",
   "execution_count": 68,
   "id": "7797f204",
   "metadata": {},
   "outputs": [
    {
     "data": {
      "text/plain": [
       "KstestResult(statistic=0.5, pvalue=0.0)"
      ]
     },
     "execution_count": 68,
     "metadata": {},
     "output_type": "execute_result"
    }
   ],
   "source": [
    "# 正态性检验: ks H0:点击ROI服从正态分布\n",
    "from scipy.stats import kstest\n",
    "test_stat = kstest(flow['点击ROI'], 'norm')"
   ]
  },
  {
   "cell_type": "code",
   "execution_count": null,
   "id": "0cd04c73",
   "metadata": {},
   "outputs": [],
   "source": [
    "# 输出数据备份\n",
    "flow.to_csv('信息流数据_v2.csv',index=False)"
   ]
  },
  {
   "cell_type": "code",
   "execution_count": null,
   "id": "56429be1",
   "metadata": {
    "scrolled": true
   },
   "outputs": [],
   "source": []
  },
  {
   "cell_type": "code",
   "execution_count": null,
   "id": "e9a1083c",
   "metadata": {},
   "outputs": [],
   "source": []
  }
 ],
 "metadata": {
  "kernelspec": {
   "display_name": "Python 3",
   "language": "python",
   "name": "python3"
  },
  "language_info": {
   "codemirror_mode": {
    "name": "ipython",
    "version": 3
   },
   "file_extension": ".py",
   "mimetype": "text/x-python",
   "name": "python",
   "nbconvert_exporter": "python",
   "pygments_lexer": "ipython3",
   "version": "3.7.0"
  }
 },
 "nbformat": 4,
 "nbformat_minor": 5
}
