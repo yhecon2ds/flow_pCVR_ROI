{
 "cells": [
  {
   "cell_type": "code",
   "execution_count": 41,
   "id": "48c5210d",
   "metadata": {},
   "outputs": [],
   "source": [
    "import pandas as pd\n",
    "import numpy as np\n",
    "from sklearn.model_selection import StratifiedShuffleSplit\n",
    "\n",
    "from sklearn.linear_model import ElasticNet, Lasso, Ridge\n",
    "import xgboost as xgb\n",
    "import lightgbm as lgb\n",
    "\n",
    "from sklearn.model_selection import KFold, cross_val_score\n",
    "from sklearn.metrics import mean_squared_error\n",
    "from sklearn.preprocessing import MinMaxScaler\n",
    "from sklearn.model_selection import GridSearchCV\n",
    "\n",
    "from sklearn.base import BaseEstimator, TransformerMixin, RegressorMixin, clone\n",
    "\n",
    "from sklearn.metrics import mean_absolute_error \n",
    "from sklearn.metrics import r2_score"
   ]
  },
  {
   "cell_type": "code",
   "execution_count": 3,
   "id": "f7a45501",
   "metadata": {},
   "outputs": [],
   "source": [
    "# 读取已处理好的数据\n",
    "flow = pd.read_csv('信息流数据_v2.csv',encoding='gbk') # 读ansi格式时会出错，需要加gbk编码"
   ]
  },
  {
   "cell_type": "code",
   "execution_count": 4,
   "id": "a9a70892",
   "metadata": {},
   "outputs": [],
   "source": [
    "# 划分feature和target\n",
    "X = flow.drop(['点击ROI'],axis = 1)\n",
    "y = flow['点击ROI']"
   ]
  },
  {
   "cell_type": "code",
   "execution_count": 5,
   "id": "107e7980",
   "metadata": {},
   "outputs": [
    {
     "data": {
      "text/plain": [
       "pcbd    0.51401\n",
       "byhe    0.38473\n",
       "mxwl    0.10126\n",
       "Name: 品牌名称, dtype: float64"
      ]
     },
     "execution_count": 5,
     "metadata": {},
     "output_type": "execute_result"
    },
    {
     "data": {
      "image/png": "[encoded data removed]",
      "text/plain": [
       "<Figure size 432x288 with 1 Axes>"
      ]
     },
     "metadata": {
      "needs_background": "light"
     },
     "output_type": "display_data"
    }
   ],
   "source": [
    "# 品牌分布检验\n",
    "X['品牌名称'].value_counts().sort_index().plot.bar(grid = True,rot= 0) \n",
    "X['品牌名称'].value_counts()/ len(X['品牌名称'])"
   ]
  },
  {
   "cell_type": "code",
   "execution_count": 6,
   "id": "428b3791",
   "metadata": {},
   "outputs": [
    {
     "name": "stdout",
     "output_type": "stream",
     "text": [
      "Train Index: [27754 32923  9682 ... 29080 32387 25716] ,Test Index: [32072 23319 41782 ... 32481 30942 41419]\n"
     ]
    }
   ],
   "source": [
    "# 按品牌分层划分train和test\n",
    "split=StratifiedShuffleSplit(n_splits=1,test_size=0.2,random_state=42)\n",
    "for train_index,test_index in split.split(X,X['品牌名称']):\n",
    "    print(\"Train Index:\",train_index,\",Test Index:\",test_index)\n",
    "    X_train,X_test=X.loc[train_index],X.loc[test_index]\n",
    "    y_train,y_test=y.loc[train_index],y.loc[test_index]"
   ]
  },
  {
   "cell_type": "code",
   "execution_count": 7,
   "id": "6c73d8e6",
   "metadata": {},
   "outputs": [
    {
     "data": {
      "text/plain": [
       "pcbd    0.514005\n",
       "byhe    0.384722\n",
       "mxwl    0.101274\n",
       "Name: 品牌名称, dtype: float64"
      ]
     },
     "execution_count": 7,
     "metadata": {},
     "output_type": "execute_result"
    }
   ],
   "source": [
    "# 检验是否分层抽样成功\n",
    "X_test['品牌名称'].value_counts()/ len(X_test['品牌名称'])\n",
    "X_train['品牌名称'].value_counts()/ len(X_train['品牌名称'])"
   ]
  },
  {
   "cell_type": "code",
   "execution_count": 8,
   "id": "fc715bfa",
   "metadata": {},
   "outputs": [],
   "source": [
    "# 删除品牌名称变量\n",
    "X_test.drop(['品牌名称'],axis=1,inplace = True)\n",
    "X_train.drop(['品牌名称'],axis=1,inplace = True)"
   ]
  },
  {
   "cell_type": "code",
   "execution_count": 9,
   "id": "a9a2ef2e",
   "metadata": {},
   "outputs": [],
   "source": [
    "# 定义评价函数,五折交叉验证\n",
    "n_folds = 5\n",
    "def rmsle_cv(model):\n",
    "    kf = KFold(n_folds, shuffle=True, random_state=42).get_n_splits(X_train)\n",
    "    rmse_score= np.sqrt(-cross_val_score(model, X_train, y_train, scoring=\"neg_mean_squared_error\", cv = kf))\n",
    "    print(rmse_score)\n",
    "    print(rmse_score.mean())\n",
    "    print(rmse_score.std())"
   ]
  },
  {
   "cell_type": "code",
   "execution_count": 9,
   "id": "bd50c69e",
   "metadata": {},
   "outputs": [],
   "source": [
    "# 因为加入了L1L2惩罚项，需要进行缩放。有dummy，要对特征进行归一化\n",
    "scaler = MinMaxScaler()\n",
    "X_1=scaler.fit_transform(X_train)\n",
    "X_2=scaler.fit_transform(X_test)\n",
    "X_train = pd.DataFrame(X_1, columns=X_train.columns,index=X_train.index)\n",
    "X_test = pd.DataFrame(X_2, columns=X_test.columns,index=X_test.index)"
   ]
  },
  {
   "cell_type": "markdown",
   "id": "c8f1e6b7",
   "metadata": {},
   "source": [
    "# LR调参"
   ]
  },
  {
   "cell_type": "code",
   "execution_count": 17,
   "id": "4cd249e7",
   "metadata": {},
   "outputs": [
    {
     "name": "stdout",
     "output_type": "stream",
     "text": [
      "Fitting 5 folds for each of 6 candidates, totalling 30 fits\n"
     ]
    },
    {
     "name": "stderr",
     "output_type": "stream",
     "text": [
      "[Parallel(n_jobs=-1)]: Using backend LokyBackend with 16 concurrent workers.\n",
      "[Parallel(n_jobs=-1)]: Done  30 out of  30 | elapsed:   22.0s remaining:    0.0s\n",
      "[Parallel(n_jobs=-1)]: Done  30 out of  30 | elapsed:   22.0s finished\n"
     ]
    },
    {
     "name": "stdout",
     "output_type": "stream",
     "text": [
      "每轮迭代运行结果:{'mean_fit_time': array([14.7597199 ,  3.13014321,  3.25246744,  3.50188322,  3.64898868,\n",
      "        2.96204329]), 'std_fit_time': array([0.1611983 , 0.44603602, 0.52674781, 0.31263891, 0.15954811,\n",
      "       0.49220647]), 'mean_score_time': array([0.01747131, 0.07132807, 0.05884705, 0.07969656, 0.05857821,\n",
      "       0.04773507]), 'std_score_time': array([0.00265523, 0.01110462, 0.00973398, 0.01799332, 0.00416132,\n",
      "       0.00874441]), 'param_alpha': masked_array(data=[0, 0.005, 0.01, 0.015, 0.02, 0.025],\n",
      "             mask=[False, False, False, False, False, False],\n",
      "       fill_value='?',\n",
      "            dtype=object), 'params': [{'alpha': 0}, {'alpha': 0.005}, {'alpha': 0.01}, {'alpha': 0.015}, {'alpha': 0.02}, {'alpha': 0.025}], 'split0_test_score': array([-188.85679389, -148.52038441, -148.51641636, -148.55855808,\n",
      "       -148.62760994, -148.719023  ]), 'split1_test_score': array([-165.88309832, -160.01283728, -159.89532562, -159.8253922 ,\n",
      "       -159.78529566, -159.76820182]), 'split2_test_score': array([-163.01755227, -148.26969427, -148.24537102, -148.26923998,\n",
      "       -148.32684707, -148.41211083]), 'split3_test_score': array([-183.72518717, -173.52297088, -173.56767874, -173.62206561,\n",
      "       -173.68459883, -173.75904828]), 'split4_test_score': array([-6.69960523e+13, -1.68834893e+02, -1.68935270e+02, -1.69109820e+02,\n",
      "       -1.69337777e+02, -1.69593303e+02]), 'mean_test_score': array([-1.33980777e+13, -1.59831517e+02, -1.59831369e+02, -1.59876368e+02,\n",
      "       -1.59951774e+02, -1.60049682e+02]), 'std_test_score': array([2.67975713e+13, 1.02971751e+01, 1.03327309e+01, 1.03635256e+01,\n",
      "       1.03930969e+01, 1.04203151e+01]), 'rank_test_score': array([6, 2, 1, 3, 4, 5])}\n",
      "参数的最佳取值：{'alpha': 0.01}\n",
      "最佳模型得分:-159.83136879974865\n"
     ]
    }
   ],
   "source": [
    "# Ridge调参\n",
    "cv_params = {'alpha': [0,0.005,0.01,0.015,0.02,0.025]}\n",
    "other_params = {'random_state':1,'alpha':0.005}\n",
    "ridge_model = Ridge(**other_params)\n",
    "optimized_ridge = GridSearchCV(estimator=ridge_model, param_grid=cv_params, scoring='neg_mean_absolute_error', cv=5, verbose=1, n_jobs=-1) #用所有处理器\n",
    "optimized_ridge.fit(X_train, y_train)\n",
    "evalute_result = optimized_ridge.cv_results_\n",
    "print('每轮迭代运行结果:{0}'.format(evalute_result))\n",
    "print('参数的最佳取值：{0}'.format(optimized_ridge.best_params_))\n",
    "print('最佳模型得分:{0}'.format(optimized_ridge.best_score_))"
   ]
  },
  {
   "cell_type": "code",
   "execution_count": 19,
   "id": "c2acb6c5",
   "metadata": {},
   "outputs": [
    {
     "name": "stdout",
     "output_type": "stream",
     "text": [
      "Fitting 5 folds for each of 2 candidates, totalling 10 fits\n"
     ]
    },
    {
     "name": "stderr",
     "output_type": "stream",
     "text": [
      "[Parallel(n_jobs=-1)]: Using backend LokyBackend with 16 concurrent workers.\n",
      "[Parallel(n_jobs=-1)]: Done  10 out of  10 | elapsed:   50.3s finished\n"
     ]
    },
    {
     "name": "stdout",
     "output_type": "stream",
     "text": [
      "每轮迭代运行结果:{'mean_fit_time': array([49.70595994,  8.28310122]), 'std_fit_time': array([0.41943755, 0.16936027]), 'mean_score_time': array([0.01550183, 0.03713341]), 'std_score_time': array([0.00627151, 0.01234856]), 'param_l1_ratio': masked_array(data=[0, 0.05],\n",
      "             mask=[False, False],\n",
      "       fill_value='?',\n",
      "            dtype=object), 'params': [{'l1_ratio': 0}, {'l1_ratio': 0.05}], 'split0_test_score': array([-364.77642439, -365.42220302]), 'split1_test_score': array([-368.56387772, -368.95645868]), 'split2_test_score': array([-374.9278781 , -375.58703469]), 'split3_test_score': array([-453.45160926, -453.66200095]), 'split4_test_score': array([-443.44922224, -443.58081557]), 'mean_test_score': array([-401.03113008, -401.43904367]), 'std_test_score': array([38.97921135, 38.79075475]), 'rank_test_score': array([1, 2])}\n",
      "参数的最佳取值：{'l1_ratio': 0}\n",
      "最佳模型得分:-401.03113007925896\n"
     ]
    },
    {
     "name": "stderr",
     "output_type": "stream",
     "text": [
      "C:\\Users\\Sunny\\AppData\\Roaming\\Python\\Python37\\site-packages\\sklearn\\linear_model\\coordinate_descent.py:475: ConvergenceWarning: Objective did not converge. You might want to increase the number of iterations. Duality gap: 462993342335.77826, tolerance: 94249394.37711519\n",
      "  positive)\n"
     ]
    }
   ],
   "source": [
    "# 弹性网络调参：从lasso的alpha最佳参数为0以及弹性网络L1ration为0，可知仅用ridge\n",
    "cv_params = {'l1_ratio': [0,0.05]}\n",
    "other_params = {'random_state':3,\n",
    "               'alpha':0.01,\n",
    "               'l1_ratio':0}\n",
    "ENet_model = ElasticNet(**other_params)\n",
    "optimized_en = GridSearchCV(estimator=ENet_model, param_grid=cv_params, scoring='neg_mean_absolute_error', cv=5, verbose=1, n_jobs=-1) #用所有处理器\n",
    "optimized_en.fit(X_train, y_train)\n",
    "evalute_result = optimized_en.cv_results_\n",
    "print('每轮迭代运行结果:{0}'.format(evalute_result))\n",
    "print('参数的最佳取值：{0}'.format(optimized_en.best_params_))\n",
    "print('最佳模型得分:{0}'.format(optimized_en.best_score_))"
   ]
  },
  {
   "cell_type": "markdown",
   "id": "7183c544",
   "metadata": {},
   "source": [
    "# XGboost调参"
   ]
  },
  {
   "cell_type": "code",
   "execution_count": 21,
   "id": "da72fda9",
   "metadata": {},
   "outputs": [
    {
     "name": "stdout",
     "output_type": "stream",
     "text": [
      "Fitting 5 folds for each of 4 candidates, totalling 20 fits\n"
     ]
    },
    {
     "name": "stderr",
     "output_type": "stream",
     "text": [
      "[Parallel(n_jobs=4)]: Using backend LokyBackend with 4 concurrent workers.\n",
      "[Parallel(n_jobs=4)]: Done  20 out of  20 | elapsed: 12.7min finished\n"
     ]
    },
    {
     "name": "stdout",
     "output_type": "stream",
     "text": [
      "每轮迭代运行结果:{'mean_fit_time': array([ 85.34924264, 129.27814608, 168.9499691 , 192.73531337]), 'std_fit_time': array([ 0.51830045,  2.96215327,  2.31308182, 18.43206032]), 'mean_score_time': array([0.16360779, 0.1724206 , 0.19425154, 0.17321444]), 'std_score_time': array([0.01999828, 0.00795321, 0.01441607, 0.03809285]), 'param_n_estimators': masked_array(data=[400, 600, 800, 1000],\n",
      "             mask=[False, False, False, False],\n",
      "       fill_value='?',\n",
      "            dtype=object), 'params': [{'n_estimators': 400}, {'n_estimators': 600}, {'n_estimators': 800}, {'n_estimators': 1000}], 'split0_test_score': array([-22.15863266, -21.01184454, -20.67275773, -20.47937188]), 'split1_test_score': array([-38.15036172, -36.97427719, -36.48122667, -36.20191694]), 'split2_test_score': array([-24.16124237, -23.2066368 , -22.86803486, -22.61838286]), 'split3_test_score': array([-54.60375418, -53.86734787, -53.5598982 , -53.34207551]), 'split4_test_score': array([-35.22195172, -34.5850254 , -34.25917565, -34.0855882 ]), 'mean_test_score': array([-34.85862194, -33.92844604, -33.56763582, -33.34488275]), 'std_test_score': array([11.63223662, 11.73922091, 11.74222814, 11.74019249]), 'rank_test_score': array([4, 3, 2, 1])}\n",
      "参数的最佳取值：{'n_estimators': 1000}\n",
      "最佳模型得分:-33.344882745414\n"
     ]
    }
   ],
   "source": [
    "# n_estimators\n",
    "cv_params = {'n_estimators': [400,600,800,1000]}\n",
    "other_params = {'learning_rate': 0.1,'n_estimators':1000, 'max_depth': 5, 'min_child_weight': 1, 'seed': 0,\n",
    "                    'subsample': 0.8, 'colsample_bytree': 0.8, 'gamma': 0, 'reg_alpha': 0, 'reg_lambda': 1}\n",
    "xgbt_model = xgb.XGBRegressor(**other_params)\n",
    "optimized_GBM = GridSearchCV(estimator=xgbt_model, param_grid=cv_params, scoring='neg_mean_absolute_error', cv=5, verbose=1, n_jobs=4)\n",
    "optimized_GBM.fit(X_train, y_train)\n",
    "evalute_result = optimized_GBM.cv_results_\n",
    "print('每轮迭代运行结果:{0}'.format(evalute_result))\n",
    "print('参数的最佳取值：{0}'.format(optimized_GBM.best_params_))\n",
    "print('最佳模型得分:{0}'.format(optimized_GBM.best_score_))"
   ]
  },
  {
   "cell_type": "code",
   "execution_count": 22,
   "id": "bf8edd0a",
   "metadata": {},
   "outputs": [
    {
     "name": "stdout",
     "output_type": "stream",
     "text": [
      "Fitting 5 folds for each of 9 candidates, totalling 45 fits\n"
     ]
    },
    {
     "name": "stderr",
     "output_type": "stream",
     "text": [
      "[Parallel(n_jobs=4)]: Using backend LokyBackend with 4 concurrent workers.\n",
      "[Parallel(n_jobs=4)]: Done  45 out of  45 | elapsed: 33.2min finished\n"
     ]
    },
    {
     "name": "stdout",
     "output_type": "stream",
     "text": [
      "每轮迭代运行结果:{'mean_fit_time': array([139.29149041, 138.35877662, 137.92514887, 174.55571442,\n",
      "       172.42571664, 174.00500979, 207.17541552, 208.21526232,\n",
      "       186.70233698]), 'std_fit_time': array([ 1.16613797,  2.94293007,  1.04726039,  2.02234249,  1.61969813,\n",
      "        1.60502263,  4.4849408 ,  5.84193399, 30.51327684]), 'mean_score_time': array([0.17746916, 0.16815486, 0.1715982 , 0.19933472, 0.19490919,\n",
      "       0.18819857, 0.200665  , 0.21064501, 0.17728906]), 'std_score_time': array([0.00699877, 0.0064927 , 0.00661925, 0.01062338, 0.003114  ,\n",
      "       0.00792433, 0.01127655, 0.00432268, 0.05157204]), 'param_max_depth': masked_array(data=[3, 3, 3, 4, 4, 4, 5, 5, 5],\n",
      "             mask=[False, False, False, False, False, False, False, False,\n",
      "                   False],\n",
      "       fill_value='?',\n",
      "            dtype=object), 'param_min_child_weight': masked_array(data=[1, 2, 3, 1, 2, 3, 1, 2, 3],\n",
      "             mask=[False, False, False, False, False, False, False, False,\n",
      "                   False],\n",
      "       fill_value='?',\n",
      "            dtype=object), 'params': [{'max_depth': 3, 'min_child_weight': 1}, {'max_depth': 3, 'min_child_weight': 2}, {'max_depth': 3, 'min_child_weight': 3}, {'max_depth': 4, 'min_child_weight': 1}, {'max_depth': 4, 'min_child_weight': 2}, {'max_depth': 4, 'min_child_weight': 3}, {'max_depth': 5, 'min_child_weight': 1}, {'max_depth': 5, 'min_child_weight': 2}, {'max_depth': 5, 'min_child_weight': 3}], 'split0_test_score': array([-23.67874138, -27.67647482, -62.60075065, -22.45014448,\n",
      "       -31.49581128, -58.16108453, -20.47937188, -25.6385332 ,\n",
      "       -61.15654728]), 'split1_test_score': array([ -40.45025456,  -56.89168745, -117.22872105,  -40.78927358,\n",
      "        -54.19605707, -103.24826092,  -36.20191694,  -59.15168371,\n",
      "       -103.32516862]), 'split2_test_score': array([-21.63328751, -36.99657791, -52.51274952, -21.18163667,\n",
      "       -38.3047808 , -55.09743672, -22.61838286, -37.82540472,\n",
      "       -56.68311769]), 'split3_test_score': array([ -61.99881155,  -87.94907855, -111.34062104,  -51.4946514 ,\n",
      "        -87.32203925, -110.34353195,  -53.34207551, -100.7892761 ,\n",
      "       -110.5220541 ]), 'split4_test_score': array([ -45.52768407,  -89.12627745, -109.69235611,  -37.17149562,\n",
      "        -88.06056358, -111.90110759,  -34.0855882 ,  -84.52093453,\n",
      "       -112.75726214]), 'mean_test_score': array([-38.65690451, -59.72639561, -90.67392147, -34.61689281,\n",
      "       -59.8742828 , -87.74896716, -33.34488275, -61.58341544,\n",
      "       -88.8875478 ]), 'std_test_score': array([14.89561247, 25.34836305, 27.34391419, 11.47183435, 23.87723453,\n",
      "       25.59556244, 11.74019249, 28.01981722, 24.70797253]), 'rank_test_score': array([3, 4, 9, 2, 5, 7, 1, 6, 8])}\n",
      "参数的最佳取值：{'max_depth': 5, 'min_child_weight': 1}\n",
      "最佳模型得分:-33.344882745414\n"
     ]
    }
   ],
   "source": [
    "# min_child_weight以及max_depth\n",
    "cv_params = {'min_child_weight': [1,2,3],\n",
    "             'max_depth':[3,4,5]\n",
    "            }\n",
    "other_params = {'learning_rate': 0.1, 'n_estimators': 1000, 'max_depth': 5, 'min_child_weight': 1, 'seed': 0,\n",
    "                    'subsample': 0.8, 'colsample_bytree': 0.8, 'gamma': 0, 'reg_alpha': 0, 'reg_lambda': 1}\n",
    "xgbt_model = xgb.XGBRegressor(**other_params)\n",
    "optimized_GBM = GridSearchCV(estimator=xgbt_model, param_grid=cv_params, scoring='neg_mean_absolute_error', cv=5, verbose=1, n_jobs=4)\n",
    "optimized_GBM.fit(X_train, y_train)\n",
    "evalute_result = optimized_GBM.cv_results_\n",
    "print('每轮迭代运行结果:{0}'.format(evalute_result))\n",
    "print('参数的最佳取值：{0}'.format(optimized_GBM.best_params_))\n",
    "print('最佳模型得分:{0}'.format(optimized_GBM.best_score_))"
   ]
  },
  {
   "cell_type": "code",
   "execution_count": 25,
   "id": "2cd76f35",
   "metadata": {},
   "outputs": [
    {
     "name": "stdout",
     "output_type": "stream",
     "text": [
      "Fitting 5 folds for each of 3 candidates, totalling 15 fits\n"
     ]
    },
    {
     "name": "stderr",
     "output_type": "stream",
     "text": [
      "[Parallel(n_jobs=4)]: Using backend LokyBackend with 4 concurrent workers.\n",
      "[Parallel(n_jobs=4)]: Done  15 out of  15 | elapsed: 13.3min finished\n"
     ]
    },
    {
     "name": "stdout",
     "output_type": "stream",
     "text": [
      "每轮迭代运行结果:{'mean_fit_time': array([207.58898644, 207.73377175, 185.58153558]), 'std_fit_time': array([ 1.53423503,  1.26056968, 20.08532512]), 'mean_score_time': array([0.21001062, 0.21030397, 0.16181135]), 'std_score_time': array([0.0053589 , 0.01097637, 0.03858453]), 'param_gamma': masked_array(data=[0.3, 0.4, 0.5],\n",
      "             mask=[False, False, False],\n",
      "       fill_value='?',\n",
      "            dtype=object), 'params': [{'gamma': 0.3}, {'gamma': 0.4}, {'gamma': 0.5}], 'split0_test_score': array([-20.44938678, -20.45349333, -20.45702547]), 'split1_test_score': array([-36.2078135 , -36.20781946, -36.20133561]), 'split2_test_score': array([-22.60777326, -22.63752593, -22.62216459]), 'split3_test_score': array([-53.36011813, -53.36228141, -53.36818081]), 'split4_test_score': array([-34.05662783, -34.05987288, -34.0512643 ]), 'mean_test_score': array([-33.33575936, -33.34361435, -33.33940975]), 'std_test_score': array([11.75477727, 11.74922672, 11.75284245]), 'rank_test_score': array([1, 3, 2])}\n",
      "参数的最佳取值：{'gamma': 0.3}\n",
      "最佳模型得分:-33.33575936176555\n"
     ]
    }
   ],
   "source": [
    "# gamma\n",
    "cv_params = {'gamma': [0.3,0.4,0.5]}\n",
    "other_params = {'learning_rate': 0.1, 'n_estimators': 1000, 'max_depth': 5, 'min_child_weight': 1, 'seed': 0,\n",
    "                    'subsample': 0.8, 'colsample_bytree': 0.8, 'gamma': 0, 'reg_alpha': 0, 'reg_lambda': 1}\n",
    "xgbt_model = xgb.XGBRegressor(**other_params)\n",
    "optimized_GBM = GridSearchCV(estimator=xgbt_model, param_grid=cv_params, scoring='neg_mean_absolute_error', cv=5, verbose=1, n_jobs=4)\n",
    "optimized_GBM.fit(X_train, y_train)\n",
    "evalute_result = optimized_GBM.cv_results_\n",
    "print('每轮迭代运行结果:{0}'.format(evalute_result))\n",
    "print('参数的最佳取值：{0}'.format(optimized_GBM.best_params_))\n",
    "print('最佳模型得分:{0}'.format(optimized_GBM.best_score_))"
   ]
  },
  {
   "cell_type": "code",
   "execution_count": 27,
   "id": "a13b6acf",
   "metadata": {},
   "outputs": [
    {
     "name": "stdout",
     "output_type": "stream",
     "text": [
      "Fitting 5 folds for each of 16 candidates, totalling 80 fits\n"
     ]
    },
    {
     "name": "stderr",
     "output_type": "stream",
     "text": [
      "[Parallel(n_jobs=4)]: Using backend LokyBackend with 4 concurrent workers.\n",
      "[Parallel(n_jobs=4)]: Done  42 tasks      | elapsed: 32.6min\n",
      "[Parallel(n_jobs=4)]: Done  80 out of  80 | elapsed: 66.7min finished\n"
     ]
    },
    {
     "name": "stdout",
     "output_type": "stream",
     "text": [
      "每轮迭代运行结果:{'mean_fit_time': array([178.2487432 , 166.34574032, 139.79408011, 135.15635433,\n",
      "       174.2884583 , 187.61131892, 204.14702597, 198.03668776,\n",
      "       230.85568528, 219.36005759, 210.08292432, 202.29232812,\n",
      "       250.70405207, 241.16494608, 232.80079432, 222.00068102]), 'std_fit_time': array([ 3.50107234, 16.84508581,  2.46097386,  1.00541401,  2.77767437,\n",
      "       18.21773269,  2.90414242,  0.75056234,  2.34496854,  1.77730074,\n",
      "        1.41182397,  1.06904399,  2.3786543 ,  2.80067258,  1.63630829,\n",
      "        1.34221976]), 'mean_score_time': array([0.20080094, 0.18413272, 0.18593106, 0.18566132, 0.19462366,\n",
      "       0.2213325 , 0.24220295, 0.22752962, 0.2285049 , 0.21391735,\n",
      "       0.21190376, 0.21563983, 0.20917239, 0.22175884, 0.21098833,\n",
      "       0.16592546]), 'std_score_time': array([0.00546966, 0.01989066, 0.00376145, 0.00295519, 0.02142507,\n",
      "       0.02285818, 0.01259505, 0.01851963, 0.01687422, 0.0049228 ,\n",
      "       0.00335434, 0.00464494, 0.00552729, 0.01643412, 0.0013561 ,\n",
      "       0.04362046]), 'param_colsample_bytree': masked_array(data=[0.6, 0.6, 0.6, 0.6, 0.7, 0.7, 0.7, 0.7, 0.8, 0.8, 0.8,\n",
      "                   0.8, 0.9, 0.9, 0.9, 0.9],\n",
      "             mask=[False, False, False, False, False, False, False, False,\n",
      "                   False, False, False, False, False, False, False, False],\n",
      "       fill_value='?',\n",
      "            dtype=object), 'param_subsample': masked_array(data=[0.6, 0.7, 0.8, 0.9, 0.6, 0.7, 0.8, 0.9, 0.6, 0.7, 0.8,\n",
      "                   0.9, 0.6, 0.7, 0.8, 0.9],\n",
      "             mask=[False, False, False, False, False, False, False, False,\n",
      "                   False, False, False, False, False, False, False, False],\n",
      "       fill_value='?',\n",
      "            dtype=object), 'params': [{'colsample_bytree': 0.6, 'subsample': 0.6}, {'colsample_bytree': 0.6, 'subsample': 0.7}, {'colsample_bytree': 0.6, 'subsample': 0.8}, {'colsample_bytree': 0.6, 'subsample': 0.9}, {'colsample_bytree': 0.7, 'subsample': 0.6}, {'colsample_bytree': 0.7, 'subsample': 0.7}, {'colsample_bytree': 0.7, 'subsample': 0.8}, {'colsample_bytree': 0.7, 'subsample': 0.9}, {'colsample_bytree': 0.8, 'subsample': 0.6}, {'colsample_bytree': 0.8, 'subsample': 0.7}, {'colsample_bytree': 0.8, 'subsample': 0.8}, {'colsample_bytree': 0.8, 'subsample': 0.9}, {'colsample_bytree': 0.9, 'subsample': 0.6}, {'colsample_bytree': 0.9, 'subsample': 0.7}, {'colsample_bytree': 0.9, 'subsample': 0.8}, {'colsample_bytree': 0.9, 'subsample': 0.9}], 'split0_test_score': array([-28.46888074, -28.39921345, -25.99794363, -29.12714478,\n",
      "       -25.77786215, -29.30741221, -23.44841449, -24.90830818,\n",
      "       -20.1782217 , -19.99241775, -20.44938678, -21.64337407,\n",
      "       -16.08191455, -13.98787325, -16.91705816, -15.84338645]), 'split1_test_score': array([-47.29279571, -58.71570013, -54.12564374, -42.81089258,\n",
      "       -47.21769089, -49.37180005, -45.78972677, -38.01548744,\n",
      "       -39.40460579, -34.44305574, -36.2078135 , -26.24648057,\n",
      "       -27.06462412, -24.74993105, -25.31403565, -23.50863112]), 'split2_test_score': array([-31.23396586, -27.70650342, -28.45826492, -26.49823453,\n",
      "       -27.77474802, -22.615186  , -24.73754221, -21.47650752,\n",
      "       -26.75982356, -23.80969154, -22.60777326, -21.99575206,\n",
      "       -15.41549052, -18.06434398, -16.85130595, -16.90209701]), 'split3_test_score': array([-67.67664946, -66.9493942 , -82.16909988, -83.62144673,\n",
      "       -59.41768931, -64.19916011, -65.57200009, -81.566639  ,\n",
      "       -65.67687365, -67.84371533, -53.36011813, -94.14944835,\n",
      "       -66.69432969, -62.57226655, -41.03114699, -84.62915908]), 'split4_test_score': array([-55.61028647, -62.3195355 , -60.43064935, -54.01927449,\n",
      "       -51.22869264, -53.15300623, -41.29202722, -41.95189149,\n",
      "       -38.70597093, -33.25767283, -34.05662783, -39.13079567,\n",
      "       -33.76377444, -35.22061525, -34.53187352, -30.85585105]), 'mean_test_score': array([-46.05563721, -48.81717797, -50.23513322, -47.21418103,\n",
      "       -42.28260171, -43.72847056, -40.16719463, -41.58262969,\n",
      "       -38.14430752, -35.86848324, -33.33575936, -40.63170447,\n",
      "       -31.80298828, -30.91799286, -26.92847244, -34.34650648]), 'std_test_score': array([14.75973348, 17.1559695 , 20.9785695 , 20.7239297 , 13.27313167,\n",
      "       15.44960572, 15.46512415, 21.41856678, 15.57108992, 16.9036272 ,\n",
      "       11.75477727, 27.49909438, 18.75810126, 17.38008727,  9.60282315,\n",
      "       25.70793862]), 'rank_test_score': array([13, 15, 16, 14, 11, 12,  8, 10,  7,  6,  4,  9,  3,  2,  1,  5])}\n",
      "参数的最佳取值：{'colsample_bytree': 0.9, 'subsample': 0.8}\n",
      "最佳模型得分:-26.928472443409618\n"
     ]
    }
   ],
   "source": [
    "# subsample以及colsample_bytree\n",
    "cv_params = {'subsample': [0.6, 0.7, 0.8, 0.9], 'colsample_bytree': [0.6, 0.7, 0.8, 0.9]}\n",
    "    other_params = {'learning_rate': 0.1, 'n_estimators': 1000, 'max_depth': 5, 'min_child_weight':1 , 'seed': 0,\n",
    "                    'subsample': 0.8, 'colsample_bytree': 0.8, 'gamma': 0.3, 'reg_alpha': 0, 'reg_lambda': 1}\n",
    "xgbt_model = xgb.XGBRegressor(**other_params)\n",
    "optimized_GBM = GridSearchCV(estimator=xgbt_model, param_grid=cv_params, scoring='neg_mean_absolute_error', cv=5, verbose=1, n_jobs=4)\n",
    "optimized_GBM.fit(X_train, y_train)\n",
    "evalute_result = optimized_GBM.cv_results_\n",
    "print('每轮迭代运行结果:{0}'.format(evalute_result))\n",
    "print('参数的最佳取值：{0}'.format(optimized_GBM.best_params_))\n",
    "print('最佳模型得分:{0}'.format(optimized_GBM.best_score_))"
   ]
  },
  {
   "cell_type": "code",
   "execution_count": 29,
   "id": "c7d81d2c",
   "metadata": {},
   "outputs": [
    {
     "name": "stdout",
     "output_type": "stream",
     "text": [
      "Fitting 5 folds for each of 9 candidates, totalling 45 fits\n"
     ]
    },
    {
     "name": "stderr",
     "output_type": "stream",
     "text": [
      "[Parallel(n_jobs=-1)]: Using backend LokyBackend with 16 concurrent workers.\n",
      "[Parallel(n_jobs=-1)]: Done  45 out of  45 | elapsed: 42.0min finished\n"
     ]
    },
    {
     "name": "stdout",
     "output_type": "stream",
     "text": [
      "每轮迭代运行结果:{'mean_fit_time': array([876.00422244, 881.42611313, 879.78324113, 862.82025042,\n",
      "       861.50086112, 886.78798389, 810.69334521, 752.73020787,\n",
      "       728.62580962]), 'std_fit_time': array([16.20118683, 12.36373508, 12.67717026, 15.31175171,  9.86825371,\n",
      "        3.69678806, 65.9742386 ,  1.1626766 ,  2.983741  ]), 'mean_score_time': array([0.83635392, 0.79951105, 0.82110496, 0.81598678, 0.83390903,\n",
      "       0.86401863, 0.67639465, 0.58494411, 0.39222412]), 'std_score_time': array([0.05930709, 0.07312373, 0.04171572, 0.06972256, 0.04308848,\n",
      "       0.04331178, 0.10242749, 0.05755269, 0.05253595]), 'param_reg_alpha': masked_array(data=[0.05, 0.05, 0.05, 0.1, 0.1, 0.1, 1, 1, 1],\n",
      "             mask=[False, False, False, False, False, False, False, False,\n",
      "                   False],\n",
      "       fill_value='?',\n",
      "            dtype=object), 'param_reg_lambda': masked_array(data=[0.05, 0.1, 1, 0.05, 0.1, 1, 0.05, 0.1, 1],\n",
      "             mask=[False, False, False, False, False, False, False, False,\n",
      "                   False],\n",
      "       fill_value='?',\n",
      "            dtype=object), 'params': [{'reg_alpha': 0.05, 'reg_lambda': 0.05}, {'reg_alpha': 0.05, 'reg_lambda': 0.1}, {'reg_alpha': 0.05, 'reg_lambda': 1}, {'reg_alpha': 0.1, 'reg_lambda': 0.05}, {'reg_alpha': 0.1, 'reg_lambda': 0.1}, {'reg_alpha': 0.1, 'reg_lambda': 1}, {'reg_alpha': 1, 'reg_lambda': 0.05}, {'reg_alpha': 1, 'reg_lambda': 0.1}, {'reg_alpha': 1, 'reg_lambda': 1}], 'split0_test_score': array([-17.08519856, -15.88689302, -16.91070972, -17.02575446,\n",
      "       -15.80583636, -16.9024511 , -17.24361037, -15.95000283,\n",
      "       -17.1245215 ]), 'split1_test_score': array([-23.04916557, -23.26654646, -25.25341975, -22.96825939,\n",
      "       -23.20278258, -25.26218487, -23.1851592 , -23.10695414,\n",
      "       -25.0418388 ]), 'split2_test_score': array([-16.89789305, -17.79930022, -16.86590456, -16.87366239,\n",
      "       -17.88404087, -16.82997443, -16.74315958, -17.79141424,\n",
      "       -16.80895571]), 'split3_test_score': array([-71.35463005, -70.25640267, -41.01598921, -71.33803927,\n",
      "       -70.27246121, -40.96190767, -71.37270781, -70.17539121,\n",
      "       -40.76660931]), 'split4_test_score': array([-42.47728477, -42.08619901, -34.58490974, -42.33508316,\n",
      "       -42.05373069, -34.54981174, -42.11275394, -41.98184621,\n",
      "       -34.59177121]), 'mean_test_score': array([-34.17155266, -33.85781083, -26.92557375, -34.10687883,\n",
      "       -33.84251249, -26.90065423, -34.13020388, -33.79986623,\n",
      "       -26.86612995]), 'std_test_score': array([20.81112332, 20.42297591,  9.6071385 , 20.81632689, 20.43372115,\n",
      "        9.59463953, 20.77451698, 20.39250583,  9.51075647]), 'rank_test_score': array([9, 6, 3, 7, 5, 2, 8, 4, 1])}\n",
      "参数的最佳取值：{'reg_alpha': 1, 'reg_lambda': 1}\n",
      "最佳模型得分:-26.866129948518783\n"
     ]
    }
   ],
   "source": [
    "# reg_alpha以及reg_lambda\n",
    "cv_params = {'reg_alpha': [0.05, 0.1, 1], 'reg_lambda': [0.05, 0.1, 1]}\n",
    "other_params = {'learning_rate': 0.1, 'n_estimators': 1000, 'max_depth': 5, 'min_child_weight': 1, 'seed': 0,\n",
    "                    'subsample': 0.8, 'colsample_bytree': 0.9, 'gamma': 0.3, 'reg_alpha': 0, 'reg_lambda': 1}\n",
    "xgbt_model = xgb.XGBRegressor(**other_params)\n",
    "optimized_GBM = GridSearchCV(estimator=xgbt_model, param_grid=cv_params, scoring='neg_mean_absolute_error', cv=5, verbose=1, n_jobs=-1)\n",
    "optimized_GBM.fit(X_train, y_train)\n",
    "evalute_result = optimized_GBM.cv_results_\n",
    "print('每轮迭代运行结果:{0}'.format(evalute_result))\n",
    "print('参数的最佳取值：{0}'.format(optimized_GBM.best_params_))\n",
    "print('最佳模型得分:{0}'.format(optimized_GBM.best_score_))"
   ]
  },
  {
   "cell_type": "code",
   "execution_count": 30,
   "id": "86401938",
   "metadata": {},
   "outputs": [
    {
     "name": "stdout",
     "output_type": "stream",
     "text": [
      "Fitting 5 folds for each of 3 candidates, totalling 15 fits\n"
     ]
    },
    {
     "name": "stderr",
     "output_type": "stream",
     "text": [
      "[Parallel(n_jobs=-1)]: Using backend LokyBackend with 16 concurrent workers.\n",
      "[Parallel(n_jobs=-1)]: Done  15 out of  15 | elapsed: 711.9min finished\n"
     ]
    },
    {
     "name": "stdout",
     "output_type": "stream",
     "text": [
      "每轮迭代运行结果:{'mean_fit_time': array([42686.80253763, 42686.49226079, 42689.06389785]), 'std_fit_time': array([11.76035469,  6.66485416,  5.30885093]), 'mean_score_time': array([0.58742361, 0.5881937 , 0.56834245]), 'std_score_time': array([0.20288569, 0.1198824 , 0.0707257 ]), 'param_learning_rate': masked_array(data=[0.01, 0.05, 0.07],\n",
      "             mask=[False, False, False],\n",
      "       fill_value='?',\n",
      "            dtype=object), 'params': [{'learning_rate': 0.01}, {'learning_rate': 0.05}, {'learning_rate': 0.07}], 'split0_test_score': array([-24.89983747, -16.63693954, -17.43823936]), 'split1_test_score': array([-31.20741623, -22.74538812, -23.63850515]), 'split2_test_score': array([-23.3113097 , -15.70527526, -17.55575634]), 'split3_test_score': array([-85.0145382 , -57.42816314, -61.71273417]), 'split4_test_score': array([-49.90358832, -34.02775571, -33.41415197]), 'mean_test_score': array([-42.86595207, -29.30777901, -30.75092995]), 'std_test_score': array([23.09550365, 15.50245536, 16.53840385]), 'rank_test_score': array([3, 1, 2])}\n",
      "参数的最佳取值：{'learning_rate': 0.05}\n",
      "最佳模型得分:-29.30777901084364\n"
     ]
    }
   ],
   "source": [
    "# learning_rate\n",
    "cv_params = {'learning_rate': [0.01, 0.05, 0.07]}\n",
    "other_params = {'learning_rate': 0.1, 'n_estimators': 1000, 'max_depth': 5, 'min_child_weight': 1, 'seed': 0,\n",
    "                    'subsample': 0.8, 'colsample_bytree': 0.9, 'gamma': 0.3, 'reg_alpha': 1, 'reg_lambda': 1}\n",
    "xgbt_model = xgb.XGBRegressor(**other_params)\n",
    "optimized_GBM = GridSearchCV(estimator=xgbt_model, param_grid=cv_params, scoring='neg_mean_absolute_error', cv=5, verbose=1, n_jobs=-1)\n",
    "optimized_GBM.fit(X_train, y_train)\n",
    "evalute_result = optimized_GBM.cv_results_\n",
    "print('每轮迭代运行结果:{0}'.format(evalute_result))\n",
    "print('参数的最佳取值：{0}'.format(optimized_GBM.best_params_))\n",
    "print('最佳模型得分:{0}'.format(optimized_GBM.best_score_))"
   ]
  },
  {
   "cell_type": "markdown",
   "id": "cc1afabb",
   "metadata": {},
   "source": [
    "# lightGBM调参"
   ]
  },
  {
   "cell_type": "code",
   "execution_count": 10,
   "id": "525a3572",
   "metadata": {},
   "outputs": [
    {
     "name": "stdout",
     "output_type": "stream",
     "text": [
      "[LightGBM] [Warning] feature_fraction is set=0.8, colsample_bytree=1.0 will be ignored. Current value: feature_fraction=0.8\n",
      "[LightGBM] [Warning] min_data_in_leaf is set=6, min_child_samples=20 will be ignored. Current value: min_data_in_leaf=6\n",
      "[LightGBM] [Warning] min_sum_hessian_in_leaf is set=11, min_child_weight=0.001 will be ignored. Current value: min_sum_hessian_in_leaf=11\n",
      "[LightGBM] [Warning] bagging_fraction is set=0.8, subsample=1.0 will be ignored. Current value: bagging_fraction=0.8\n",
      "[LightGBM] [Warning] bagging_freq is set=2, subsample_freq=0 will be ignored. Current value: bagging_freq=2\n",
      "Best score: -177.019\n",
      "Best parameters set:\n",
      "\tbagging_fraction: 0.8\n",
      "\tbagging_freq: 2\n",
      "\tfeature_fraction: 0.8\n",
      "\tlearning_rate: 0.05\n",
      "\tmax_depth: 15\n"
     ]
    }
   ],
   "source": [
    "parameters = {\n",
    "              'max_depth': [15, 20, 25],\n",
    "              'learning_rate': [0.01, 0.02, 0.05],\n",
    "              'feature_fraction': [0.6, 0.7, 0.8],\n",
    "              'bagging_fraction': [0.6, 0.7, 0.8],\n",
    "              'bagging_freq': [2, 4, 5],\n",
    "}\n",
    "gbm = lgb.LGBMRegressor(objective='regression',num_leaves=5,\n",
    "                              learning_rate=0.05, n_estimators=1000,\n",
    "                              max_bin = 55, bagging_fraction = 0.8,\n",
    "                              bagging_freq = 5, feature_fraction = 0.2,\n",
    "                              feature_fraction_seed=9, bagging_seed=9,\n",
    "                              min_data_in_leaf =6, min_sum_hessian_in_leaf = 11,seed = 0,max_depth = 5\n",
    "                )\n",
    "gsearch = GridSearchCV(gbm, param_grid=parameters, scoring='neg_mean_absolute_error', cv=5,n_jobs=-1)\n",
    "gsearch.fit(X_train, y_train)\n",
    "print(\"Best score: %0.3f\" % gsearch.best_score_)\n",
    "print(\"Best parameters set:\")\n",
    "best_parameters = gsearch.best_estimator_.get_params()\n",
    "for param_name in sorted(parameters.keys()):\n",
    "    print(\"\\t%s: %r\" % (param_name, best_parameters[param_name]))"
   ]
  },
  {
   "cell_type": "markdown",
   "id": "391bc8cc",
   "metadata": {},
   "source": [
    "# 确定单模型参数"
   ]
  },
  {
   "cell_type": "code",
   "execution_count": 14,
   "id": "b418b590",
   "metadata": {},
   "outputs": [],
   "source": [
    "# 最终模型参数\n",
    "# lr:lasso,ridge,ENet(L1 drop)\n",
    "ridge_model  = Ridge(alpha=0.01, random_state=1)\n",
    "# GBDT:xgboost,lgb\n",
    "other_params = {'learning_rate': 0.05, 'n_estimators': 1000, 'max_depth': 5, 'min_child_weight': 1, 'seed': 0,\n",
    "                    'subsample': 0.8, 'colsample_bytree': 0.9, 'gamma': 0.3, 'reg_alpha': 1, 'reg_lambda': 1}\n",
    "xgbt_model = xgb.XGBRegressor(colsample_bytree=0.9,\n",
    "                              gamma=0.3,\n",
    "                              learning_rate=0.05,\n",
    "                              max_depth=5,\n",
    "                              min_child_weight=1,\n",
    "                              n_estimators=1000,\n",
    "                              reg_alpha=1,\n",
    "                              reg_lambda=1,\n",
    "                              subsample=0.8,\n",
    "                              nthread = -1,\n",
    "                              silent =1,\n",
    "                              seed = 0)\n",
    "gbm = lgb.LGBMRegressor(objective='regression',num_leaves=5,\n",
    "                              learning_rate=0.05, n_estimators=1000,\n",
    "                              max_bin = 55, bagging_fraction = 0.8,\n",
    "                              bagging_freq = 2, feature_fraction = 0.8,\n",
    "                              feature_fraction_seed=9, bagging_seed=9,\n",
    "                              min_data_in_leaf =6, min_sum_hessian_in_leaf = 11,seed = 0,max_depth = 15\n",
    "                )"
   ]
  },
  {
   "cell_type": "markdown",
   "id": "a2833f24",
   "metadata": {},
   "source": [
    "# stacking"
   ]
  },
  {
   "cell_type": "code",
   "execution_count": 32,
   "id": "dcafabeb",
   "metadata": {},
   "outputs": [],
   "source": [
    "class StackingAveragedModels(BaseEstimator, RegressorMixin, TransformerMixin):\n",
    "    def __init__(self, base_models, meta_model, n_folds=5):\n",
    "        self.base_models = base_models\n",
    "        self.meta_model = meta_model\n",
    "        self.n_folds = n_folds\n",
    "        \n",
    "    def fit(self, X, y):\n",
    "        self.base_models_ = [list() for x in self.base_models]\n",
    "        self.meta_model_ = clone(self.meta_model)\n",
    "        kfold = KFold(n_splits=self.n_folds, shuffle=True, random_state=156)\n",
    "    # train clones base models then create out-of-fold predictions\n",
    "        # that are needed to train the cloned meta-model\n",
    "        # 第一个循环，训练模型。第二个循环，验证\n",
    "        out_of_fold_predictions = np.zeros((X.shape[0], len(self.base_models)))\n",
    "        for i, model in enumerate(self.base_models):\n",
    "            for train_index, holdout_index in kfold.split(X, y):\n",
    "                instance = clone(model)\n",
    "                self.base_models_[i].append(instance)\n",
    "                instance.fit(X.iloc[train_index], y.iloc[train_index])\n",
    "                y_pred = instance.predict(X.iloc[holdout_index])\n",
    "                out_of_fold_predictions[holdout_index, i] = y_pred\n",
    "        # Now train the cloned meta-model using the out-of-fold predictions as new feature\n",
    "        self.meta_model_.fit(out_of_fold_predictions, y)\n",
    "        return self\n",
    "    \n",
    "        # Do the predictions of all base models on the text data and use the averaged prediction as\n",
    "        # meta-feature for the final prediction which id done by meta-model\n",
    "   # 这是第二个阶段， 将第一阶段输出的值，当做特征，输入到第二阶段\n",
    "    def predict(self, X):\n",
    "        meta_features = np.column_stack([\n",
    "            np.column_stack([model.predict(X) for model in base_models]).mean(axis=1)\n",
    "            for base_models in self.base_models_])\n",
    "        return  self.meta_model_.predict(meta_features)\n",
    "    \n",
    "stacked_averaged_models = StackingAveragedModels(base_models = (xgbt_model,gbm),\n",
    "                                                 meta_model =ridge_model )"
   ]
  },
  {
   "cell_type": "markdown",
   "id": "d7af3916",
   "metadata": {},
   "source": [
    "# 最终预测"
   ]
  },
  {
   "cell_type": "code",
   "execution_count": 43,
   "id": "bd029081",
   "metadata": {},
   "outputs": [
    {
     "name": "stdout",
     "output_type": "stream",
     "text": [
      "[12:20:35] WARNING: C:/Users/administrator/workspace/xgboost-win64_release_1.6.0/src/learner.cc:627: \n",
      "Parameters: { \"silent\" } might not be used.\n",
      "\n",
      "  This could be a false alarm, with some parameters getting used by language bindings but\n",
      "  then being mistakenly passed down to XGBoost core, or some parameter actually being used\n",
      "  but getting flagged wrongly here. Please open an issue if you find any such cases.\n",
      "\n",
      "\n",
      "[12:21:45] WARNING: C:/Users/administrator/workspace/xgboost-win64_release_1.6.0/src/learner.cc:627: \n",
      "Parameters: { \"silent\" } might not be used.\n",
      "\n",
      "  This could be a false alarm, with some parameters getting used by language bindings but\n",
      "  then being mistakenly passed down to XGBoost core, or some parameter actually being used\n",
      "  but getting flagged wrongly here. Please open an issue if you find any such cases.\n",
      "\n",
      "\n",
      "[12:22:55] WARNING: C:/Users/administrator/workspace/xgboost-win64_release_1.6.0/src/learner.cc:627: \n",
      "Parameters: { \"silent\" } might not be used.\n",
      "\n",
      "  This could be a false alarm, with some parameters getting used by language bindings but\n",
      "  then being mistakenly passed down to XGBoost core, or some parameter actually being used\n",
      "  but getting flagged wrongly here. Please open an issue if you find any such cases.\n",
      "\n",
      "\n",
      "[12:24:03] WARNING: C:/Users/administrator/workspace/xgboost-win64_release_1.6.0/src/learner.cc:627: \n",
      "Parameters: { \"silent\" } might not be used.\n",
      "\n",
      "  This could be a false alarm, with some parameters getting used by language bindings but\n",
      "  then being mistakenly passed down to XGBoost core, or some parameter actually being used\n",
      "  but getting flagged wrongly here. Please open an issue if you find any such cases.\n",
      "\n",
      "\n",
      "[12:25:08] WARNING: C:/Users/administrator/workspace/xgboost-win64_release_1.6.0/src/learner.cc:627: \n",
      "Parameters: { \"silent\" } might not be used.\n",
      "\n",
      "  This could be a false alarm, with some parameters getting used by language bindings but\n",
      "  then being mistakenly passed down to XGBoost core, or some parameter actually being used\n",
      "  but getting flagged wrongly here. Please open an issue if you find any such cases.\n",
      "\n",
      "\n",
      "[LightGBM] [Warning] feature_fraction is set=0.8, colsample_bytree=1.0 will be ignored. Current value: feature_fraction=0.8\n",
      "[LightGBM] [Warning] min_data_in_leaf is set=6, min_child_samples=20 will be ignored. Current value: min_data_in_leaf=6\n",
      "[LightGBM] [Warning] min_sum_hessian_in_leaf is set=11, min_child_weight=0.001 will be ignored. Current value: min_sum_hessian_in_leaf=11\n",
      "[LightGBM] [Warning] bagging_fraction is set=0.8, subsample=1.0 will be ignored. Current value: bagging_fraction=0.8\n",
      "[LightGBM] [Warning] bagging_freq is set=2, subsample_freq=0 will be ignored. Current value: bagging_freq=2\n",
      "[LightGBM] [Warning] feature_fraction is set=0.8, colsample_bytree=1.0 will be ignored. Current value: feature_fraction=0.8\n",
      "[LightGBM] [Warning] min_data_in_leaf is set=6, min_child_samples=20 will be ignored. Current value: min_data_in_leaf=6\n",
      "[LightGBM] [Warning] min_sum_hessian_in_leaf is set=11, min_child_weight=0.001 will be ignored. Current value: min_sum_hessian_in_leaf=11\n",
      "[LightGBM] [Warning] bagging_fraction is set=0.8, subsample=1.0 will be ignored. Current value: bagging_fraction=0.8\n",
      "[LightGBM] [Warning] bagging_freq is set=2, subsample_freq=0 will be ignored. Current value: bagging_freq=2\n",
      "[LightGBM] [Warning] feature_fraction is set=0.8, colsample_bytree=1.0 will be ignored. Current value: feature_fraction=0.8\n",
      "[LightGBM] [Warning] min_data_in_leaf is set=6, min_child_samples=20 will be ignored. Current value: min_data_in_leaf=6\n",
      "[LightGBM] [Warning] min_sum_hessian_in_leaf is set=11, min_child_weight=0.001 will be ignored. Current value: min_sum_hessian_in_leaf=11\n",
      "[LightGBM] [Warning] bagging_fraction is set=0.8, subsample=1.0 will be ignored. Current value: bagging_fraction=0.8\n",
      "[LightGBM] [Warning] bagging_freq is set=2, subsample_freq=0 will be ignored. Current value: bagging_freq=2\n",
      "[LightGBM] [Warning] feature_fraction is set=0.8, colsample_bytree=1.0 will be ignored. Current value: feature_fraction=0.8\n",
      "[LightGBM] [Warning] min_data_in_leaf is set=6, min_child_samples=20 will be ignored. Current value: min_data_in_leaf=6\n",
      "[LightGBM] [Warning] min_sum_hessian_in_leaf is set=11, min_child_weight=0.001 will be ignored. Current value: min_sum_hessian_in_leaf=11\n",
      "[LightGBM] [Warning] bagging_fraction is set=0.8, subsample=1.0 will be ignored. Current value: bagging_fraction=0.8\n",
      "[LightGBM] [Warning] bagging_freq is set=2, subsample_freq=0 will be ignored. Current value: bagging_freq=2\n",
      "[LightGBM] [Warning] feature_fraction is set=0.8, colsample_bytree=1.0 will be ignored. Current value: feature_fraction=0.8\n",
      "[LightGBM] [Warning] min_data_in_leaf is set=6, min_child_samples=20 will be ignored. Current value: min_data_in_leaf=6\n",
      "[LightGBM] [Warning] min_sum_hessian_in_leaf is set=11, min_child_weight=0.001 will be ignored. Current value: min_sum_hessian_in_leaf=11\n",
      "[LightGBM] [Warning] bagging_fraction is set=0.8, subsample=1.0 will be ignored. Current value: bagging_fraction=0.8\n",
      "[LightGBM] [Warning] bagging_freq is set=2, subsample_freq=0 will be ignored. Current value: bagging_freq=2\n",
      "train_MAE:15.673510415988583\n",
      "test_MAE:467.3111339932861\n"
     ]
    }
   ],
   "source": [
    "# stackedregressor\n",
    "stacked_averaged_models.fit(X_train, y_train)\n",
    "stacked_pred = stacked_averaged_models.predict(X_test)\n",
    "stacked_train_pred = stacked_averaged_models.predict(X_train)\n",
    "print('train_MAE:{0}'.format(mean_absolute_error(y_train,stacked_train_pred)))\n",
    "print('test_MAE:{0}'.format(mean_absolute_error(y_test,stacked_pred)))"
   ]
  },
  {
   "cell_type": "code",
   "execution_count": 44,
   "id": "82a62d49",
   "metadata": {},
   "outputs": [
    {
     "name": "stdout",
     "output_type": "stream",
     "text": [
      "train_MAE:152.7744366608531\n",
      "test_MAE:622.3481966417827\n"
     ]
    }
   ],
   "source": [
    "# ridge\n",
    "ridge_model.fit(X_train, y_train)\n",
    "ridge_model_pred = ridge_model.predict(X_test)\n",
    "ridge_train_pred = ridge_model.predict(X_train)\n",
    "print('train_MAE:{0}'.format(mean_absolute_error(y_train,ridge_train_pred)))\n",
    "print('test_MAE:{0}'.format(mean_absolute_error(y_test,ridge_model_pred)))"
   ]
  },
  {
   "cell_type": "code",
   "execution_count": 45,
   "id": "97abf316",
   "metadata": {},
   "outputs": [
    {
     "name": "stdout",
     "output_type": "stream",
     "text": [
      "[12:30:48] WARNING: C:/Users/administrator/workspace/xgboost-win64_release_1.6.0/src/learner.cc:627: \n",
      "Parameters: { \"silent\" } might not be used.\n",
      "\n",
      "  This could be a false alarm, with some parameters getting used by language bindings but\n",
      "  then being mistakenly passed down to XGBoost core, or some parameter actually being used\n",
      "  but getting flagged wrongly here. Please open an issue if you find any such cases.\n",
      "\n",
      "\n",
      "train_MAE:2.464622926222466\n",
      "test_MAE:433.1148549092527\n"
     ]
    }
   ],
   "source": [
    "# xgbt\n",
    "xgbt_model.fit(X_train, y_train)\n",
    "xgbt_model_pred = xgbt_model.predict(X_test)\n",
    "xgbt_train_pred = xgbt_model.predict(X_train)\n",
    "print('train_MAE:{0}'.format(mean_absolute_error(y_train,xgbt_train_pred)))\n",
    "print('test_MAE:{0}'.format(mean_absolute_error(y_test,xgbt_model_pred)))"
   ]
  },
  {
   "cell_type": "code",
   "execution_count": 46,
   "id": "96c9cf84",
   "metadata": {},
   "outputs": [
    {
     "name": "stdout",
     "output_type": "stream",
     "text": [
      "[LightGBM] [Warning] feature_fraction is set=0.8, colsample_bytree=1.0 will be ignored. Current value: feature_fraction=0.8\n",
      "[LightGBM] [Warning] min_data_in_leaf is set=6, min_child_samples=20 will be ignored. Current value: min_data_in_leaf=6\n",
      "[LightGBM] [Warning] min_sum_hessian_in_leaf is set=11, min_child_weight=0.001 will be ignored. Current value: min_sum_hessian_in_leaf=11\n",
      "[LightGBM] [Warning] bagging_fraction is set=0.8, subsample=1.0 will be ignored. Current value: bagging_fraction=0.8\n",
      "[LightGBM] [Warning] bagging_freq is set=2, subsample_freq=0 will be ignored. Current value: bagging_freq=2\n",
      "train_MAE:106.94344780063308\n",
      "test_MAE:202.36685960236974\n"
     ]
    }
   ],
   "source": [
    "# lgbm\n",
    "gbm.fit(X_train, y_train)\n",
    "gbm_pred = gbm.predict(X_test)\n",
    "gbm_train_pred = gbm.predict(X_train)\n",
    "print('train_MAE:{0}'.format(mean_absolute_error(y_train,gbm_train_pred)))\n",
    "print('test_MAE:{0}'.format(mean_absolute_error(y_test,gbm_pred)))"
   ]
  }
 ],
 "metadata": {
  "kernelspec": {
   "display_name": "Python 3",
   "language": "python",
   "name": "python3"
  },
  "language_info": {
   "codemirror_mode": {
    "name": "ipython",
    "version": 3
   },
   "file_extension": ".py",
   "mimetype": "text/x-python",
   "name": "python",
   "nbconvert_exporter": "python",
   "pygments_lexer": "ipython3",
   "version": "3.7.0"
  }
 },
 "nbformat": 4,
 "nbformat_minor": 5
}
